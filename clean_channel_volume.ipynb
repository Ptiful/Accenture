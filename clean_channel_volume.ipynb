{
 "cells": [
  {
   "cell_type": "code",
   "execution_count": 1,
   "metadata": {},
   "outputs": [],
   "source": [
    "import pandas as pd"
   ]
  },
  {
   "cell_type": "code",
   "execution_count": 4,
   "metadata": {},
   "outputs": [
    {
     "name": "stdout",
     "output_type": "stream",
     "text": [
      "<class 'pandas.core.frame.DataFrame'>\n",
      "RangeIndex: 8468 entries, 0 to 8467\n",
      "Data columns (total 13 columns):\n",
      " #   Column            Non-Null Count  Dtype \n",
      "---  ------            --------------  ----- \n",
      " 0   Location          8468 non-null   int64 \n",
      " 1   Industry          8468 non-null   object\n",
      " 2   Edition           8468 non-null   int64 \n",
      " 3   Category          8464 non-null   object\n",
      " 4   Subcategory       8468 non-null   object\n",
      " 5   Hierarchy_Level   8468 non-null   int64 \n",
      " 6   Data_Type         8468 non-null   object\n",
      " 7   Outlet            8468 non-null   object\n",
      " 8   Outlet_Hierarchy  8468 non-null   int64 \n",
      " 9   Unit              8468 non-null   object\n",
      " 10  Year_text         8468 non-null   int64 \n",
      " 11  Year_date         8468 non-null   object\n",
      " 12  Volume            8468 non-null   object\n",
      "dtypes: int64(5), object(8)\n",
      "memory usage: 860.2+ KB\n"
     ]
    }
   ],
   "source": [
    "df = pd.read_csv(\"Channel_Volume.csv\")\n",
    "df.info()"
   ]
  }
 ],
 "metadata": {
  "kernelspec": {
   "display_name": "Python 3",
   "language": "python",
   "name": "python3"
  },
  "language_info": {
   "codemirror_mode": {
    "name": "ipython",
    "version": 3
   },
   "file_extension": ".py",
   "mimetype": "text/x-python",
   "name": "python",
   "nbconvert_exporter": "python",
   "pygments_lexer": "ipython3",
   "version": "3.11.3"
  },
  "orig_nbformat": 4
 },
 "nbformat": 4,
 "nbformat_minor": 2
}
