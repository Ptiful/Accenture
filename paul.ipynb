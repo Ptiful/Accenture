{
 "cells": [
  {
   "cell_type": "code",
   "execution_count": 2,
   "metadata": {},
   "outputs": [],
   "source": [
    "import pandas as pd\n",
    "\n",
    "df = pd.read_csv(\"data_old/Market_Sizes.csv\")\n",
    "df = df.dropna()\n",
    "df = df.drop(\n",
    "    columns=[\n",
    "        \"Industry\",\n",
    "        \"Data_Type\",\n",
    "        \"Edition\",\n",
    "        \"Currency_Conversion\",\n",
    "        \"Current_Constant\",\n",
    "        \"Unit\",\n",
    "        \"Year_date\",\n",
    "        \"Year_minus_2016\",\n",
    "        \"Year_minus_2022\",\n",
    "    ]\n",
    ")\n",
    "\n",
    "df = df.rename(columns={\"RSP\": \"RSP_USD_Mnl\"})\n",
    "df.to_csv(\"data_new/Market_Sizes.csv\", index=False)"
   ]
  },
  {
   "cell_type": "code",
   "execution_count": 3,
   "metadata": {},
   "outputs": [],
   "source": [
    "df = pd.read_csv(\"data_old/Channel_Volume.csv\")\n",
    "df.dropna()\n",
    "df[\"Volume\"] = [float(str(i).replace(\",\", \".\")) for i in df[\"Volume\"]]\n",
    "df.loc[df[\"Unit\"] == \"million litres\", \"Volume\"] = df[\"Volume\"] * 1000\n",
    "df = df.drop(\n",
    "    columns=[\"Category\", \"Unit\", \"Industry\", \"Edition\", \"Data_Type\", \"Year_date\"]\n",
    ")\n",
    "df = df.rename(columns={\"Volume\": \"Volume_Kl\", \"Year_text\": \"Year\"})\n",
    "\n",
    "df.to_csv(\"data_new/Channel_Volume.csv\", index=False)"
   ]
  },
  {
   "cell_type": "code",
   "execution_count": 12,
   "metadata": {},
   "outputs": [
    {
     "name": "stdout",
     "output_type": "stream",
     "text": [
      "<class 'pandas.core.frame.DataFrame'>\n",
      "Index: 21668 entries, 1 to 43335\n",
      "Data columns (total 6 columns):\n",
      " #   Column              Non-Null Count  Dtype  \n",
      "---  ------              --------------  -----  \n",
      " 0   Location            21668 non-null  int64  \n",
      " 1   Subcategory_ID      21668 non-null  int64  \n",
      " 2   Hierarchy_Level     21668 non-null  int64  \n",
      " 3   Global_Brand_Owner  21668 non-null  object \n",
      " 4   Year                21668 non-null  int64  \n",
      " 5   Volume_Kl           21668 non-null  float64\n",
      "dtypes: float64(1), int64(4), object(1)\n",
      "memory usage: 1.2+ MB\n"
     ]
    }
   ],
   "source": [
    "df = pd.read_csv(\"data_old/Company_Share_GBO_unit.csv\", sep=\";\")\n",
    "df = df.dropna()\n",
    "df[\"Volume\"] = [float(str(i).replace(\",\", \".\")) for i in df[\"Volume\"]]\n",
    "df = df.drop(columns=[\"Unit\", \"Industry\", \"Data_Type\", \"Year_minus_2016\", \"Year_date\"])\n",
    "df = df.rename(columns={\"Year_text\": \"Year\", \"Volume\": \"Volume_Kl\"})\n",
    "df[\"Volume_Kl\"] = [float(str(i).replace(\",\", \".\")) for i in df[\"Volume_Kl\"]]\n",
    "df = df.astype(\n",
    "    {\n",
    "        \"Location\": \"int\",\n",
    "        \"Subcategory_ID\": \"int\",\n",
    "        \"Hierarchy_Level\": \"int\",\n",
    "        \"Year\": \"int\",\n",
    "    }\n",
    ").round({\"Location\": 1, \"Subcategory_ID\": 1, \"Hierarchy_Level\": 1, \"Year\": 1})\n",
    "df.to_csv(\"data_new/Company_Share_GBO_unit.csv\", index=False)\n",
    "df.info()"
   ]
  },
  {
   "cell_type": "code",
   "execution_count": 25,
   "metadata": {},
   "outputs": [],
   "source": [
    "df = pd.read_csv(\"data_old/Locations.csv\", delimiter=\";\")\n",
    "df = df.dropna(axis=1)\n",
    "df.to_csv(\"data_new/Locations.csv\", index=False)"
   ]
  },
  {
   "cell_type": "code",
   "execution_count": 20,
   "metadata": {},
   "outputs": [
    {
     "name": "stdout",
     "output_type": "stream",
     "text": [
      "      id  Category                         Name  Subcategory_ID  \\\n",
      "0      1         1                          Ale               1   \n",
      "1059   2         1  Weissbier/Weizen/Wheat Beer               2   \n",
      "1709   3         1        Flavoured/Mixed Lager               3   \n",
      "2402   4         1               Standard Lager               4   \n",
      "3773   5         1                      Sorghum               5   \n",
      "\n",
      "      Hierarchy_Level  \n",
      "0                   3  \n",
      "1059                3  \n",
      "1709                3  \n",
      "2402                3  \n",
      "3773                3  \n"
     ]
    }
   ],
   "source": [
    "df = pd.read_csv(\"data_new/Company_Share_GBO_unit.csv\")\n",
    "df2 = pd.read_csv(\"data_new/Subcategories.csv\")\n",
    "df2 = df2.merge(df, left_on=\"id\", right_on=\"Subcategory_ID\")\n",
    "df2 = df2[[\"id\", \"Category\", \"Name\", \"Subcategory_ID\", \"Hierarchy_Level\"]]\n",
    "df2.drop_duplicates(subset=[\"Subcategory_ID\"], inplace=True)\n",
    "df2.to_csv(\"data_new/Subcategories2.csv\")\n",
    "print(df2.head())"
   ]
  }
 ],
 "metadata": {
  "kernelspec": {
   "display_name": ".venv",
   "language": "python",
   "name": "python3"
  },
  "language_info": {
   "codemirror_mode": {
    "name": "ipython",
    "version": 3
   },
   "file_extension": ".py",
   "mimetype": "text/x-python",
   "name": "python",
   "nbconvert_exporter": "python",
   "pygments_lexer": "ipython3",
   "version": "3.11.4"
  },
  "orig_nbformat": 4
 },
 "nbformat": 4,
 "nbformat_minor": 2
}
