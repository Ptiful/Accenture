{
 "cells": [
  {
   "cell_type": "code",
   "execution_count": 1,
   "metadata": {},
   "outputs": [],
   "source": [
    "import pandas as pd\n",
    "\n",
    "df = pd.read_csv(\"data_old/Market_Sizes.csv\")\n",
    "df = df.dropna()\n",
    "df = df.drop(\n",
    "    columns=[\n",
    "        \"Industry\",\n",
    "        \"Data_Type\",\n",
    "        \"Edition\",\n",
    "        \"Currency_Conversion\",\n",
    "        \"Current_Constant\",\n",
    "        \"Unit\",\n",
    "        \"Year_date\",\n",
    "        \"Year_minus_2016\",\n",
    "        \"Year_minus_2022\",\n",
    "    ]\n",
    ")\n",
    "\n",
    "df = df.rename(columns={\"RSP\": \"RSP_USD_Mnl\"})\n",
    "df.to_csv(\"data_new/Market_Sizes.csv\")"
   ]
  },
  {
   "cell_type": "code",
   "execution_count": 23,
   "metadata": {},
   "outputs": [],
   "source": [
    "df = pd.read_csv(\"data_old/Channel_Volume.csv\")\n",
    "df.dropna()\n",
    "df[\"Volume\"] = [float(str(i).replace(\",\", \".\")) for i in df[\"Volume\"]]\n",
    "df.loc[df[\"Unit\"] == \"million litres\", \"Volume\"] = df[\"Volume\"] * 1000\n",
    "df = df.drop(\n",
    "    columns=[\"Category\", \"Unit\", \"Industry\", \"Edition\", \"Data_Type\", \"Year_date\"]\n",
    ")\n",
    "df = df.rename(columns={\"Volume\": \"Volume_Kl\", \"Year_text\": \"Year\"})\n",
    "\n",
    "df.to_csv(\"data_new/Channel_Volume.csv\")"
   ]
  },
  {
   "cell_type": "code",
   "execution_count": null,
   "metadata": {},
   "outputs": [],
   "source": [
    "df = pd.read_csv(\"data_old/Company_Share_GBO_unit.csv\", sep=\";\")\n",
    "df = df.dropna()\n",
    "df[\"Volume\"] = [float(str(i).replace(\",\", \".\")) for i in df[\"Volume\"]]\n",
    "df = df.drop(columns=[\"Unit\",\"Industry\", \"Data_Type\", \"Year_minus_2016\", \"Year_date\"])\n",
    "df = df.rename(columns={\"Year_text\": \"Year\", \"Volume\": \"Volume_Kl\"})\n",
    "df[\"Volume_Kl\"] = [float(str(i).replace(\",\", \".\")) for i in df[\"Volume_Kl\"]]\n",
    "df.to_csv(\"data_new/Company_Share_GBO_unit.csv\")\n",
    "df"
   ]
  },
  {
   "cell_type": "code",
   "execution_count": 25,
   "metadata": {},
   "outputs": [],
   "source": [
    "df = pd.read_csv(\"data_old/Locations.csv\",delimiter =\";\")\n",
    "df = df.dropna(axis = 1)\n",
    "df.to_csv(\"data_new/Locations.csv\")"
   ]
  }
 ],
 "metadata": {
  "kernelspec": {
   "display_name": ".venv",
   "language": "python",
   "name": "python3"
  },
  "language_info": {
   "codemirror_mode": {
    "name": "ipython",
    "version": 3
   },
   "file_extension": ".py",
   "mimetype": "text/x-python",
   "name": "python",
   "nbconvert_exporter": "python",
   "pygments_lexer": "ipython3",
   "version": "3.11.4"
  },
  "orig_nbformat": 4
 },
 "nbformat": 4,
 "nbformat_minor": 2
}
