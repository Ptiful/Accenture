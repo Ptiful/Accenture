{
 "cells": [
  {
   "cell_type": "code",
   "execution_count": 1,
   "metadata": {},
   "outputs": [],
   "source": [
    "import pandas as pd\n",
    "\n",
    "df = pd.read_csv(\"data_old/Market_Sizes.csv\")\n",
    "df = df.dropna()\n",
    "df = df.drop(\n",
    "    columns=[\n",
    "        \"Industry\",\n",
    "        \"Data_Type\",\n",
    "        \"Edition\",\n",
    "        \"Currency_Conversion\",\n",
    "        \"Current_Constant\",\n",
    "        \"Unit\",\n",
    "        \"Year_date\",\n",
    "        \"Year_minus_2016\",\n",
    "        \"Year_minus_2022\",\n",
    "    ]\n",
    ")\n",
    "\n",
    "df = df.rename(columns={\"RSP\": \"RSP_USD_Mnl\"})\n",
    "df.to_csv(\"data_new/Market_Sizes.csv\")"
   ]
  },
  {
   "cell_type": "code",
   "execution_count": 7,
   "metadata": {},
   "outputs": [],
   "source": [
    "df = pd.read_csv(\"data_old/Channel_Volume.csv\")\n",
    "# df.dropna()\n",
    "df[\"Volume\"] = [float(str(i).replace(\",\", \".\")) for i in df[\"Volume\"]]\n",
    "df.loc[df[\"Unit\"] == \"million litres\", \"Volume\"] = df[\"Volume\"] * 1000\n",
    "df = df.drop(\n",
    "    columns=[\"Category\", \"Unit\", \"Industry\", \"Edition\", \"Data_Type\", \"Year_date\"]\n",
    ")\n",
    "df = df.rename(columns={\"Volume\": \"Volume_mnl\", \"Year_text\": \"Year\"})\n",
    "\n",
    "df.to_csv(\"data_new/Channel_Volume.csv\")"
   ]
  },
  {
   "cell_type": "code",
   "execution_count": 8,
   "metadata": {},
   "outputs": [],
   "source": [
    "df = pd.read_csv(\"data_old/Company_Share_GBO_unit.csv\", sep=\";\")\n",
    "df.dropna()\n",
    "df = df.drop(columns=[\"Industry\", \"Data_Type\", \"Year_minus_2016\", \"Year_date\"])\n",
    "df = df.rename(columns={\"Year_text\": \"Year\", \"Volume\": \"Volume_mnl\"})\n",
    "df[\"Volume_mnl\"] = [float(str(i).replace(\",\", \".\")) for i in df[\"Volume_mnl\"]]\n",
    "df.to_csv(\"data_new/Company_Share_GBO_unit.csv\")"
   ]
  },
  {
   "cell_type": "code",
   "execution_count": 11,
   "metadata": {},
   "outputs": [
    {
     "data": {
      "text/html": [
       "<div>\n",
       "<style scoped>\n",
       "    .dataframe tbody tr th:only-of-type {\n",
       "        vertical-align: middle;\n",
       "    }\n",
       "\n",
       "    .dataframe tbody tr th {\n",
       "        vertical-align: top;\n",
       "    }\n",
       "\n",
       "    .dataframe thead th {\n",
       "        text-align: right;\n",
       "    }\n",
       "</style>\n",
       "<table border=\"1\" class=\"dataframe\">\n",
       "  <thead>\n",
       "    <tr style=\"text-align: right;\">\n",
       "      <th></th>\n",
       "      <th>id;0;1;0;2;0;3;0;4;0;5;0;6;0;7;0;8;0</th>\n",
       "    </tr>\n",
       "  </thead>\n",
       "  <tbody>\n",
       "    <tr>\n",
       "      <th>0</th>\n",
       "      <td>Region;;Asia Pacific;;Australasia;;Eastern Eur...</td>\n",
       "    </tr>\n",
       "    <tr>\n",
       "      <th>1</th>\n",
       "      <td>Country;;Asia Pacific;;Australasia;;Eastern Eu...</td>\n",
       "    </tr>\n",
       "  </tbody>\n",
       "</table>\n",
       "</div>"
      ],
      "text/plain": [
       "                id;0;1;0;2;0;3;0;4;0;5;0;6;0;7;0;8;0\n",
       "0  Region;;Asia Pacific;;Australasia;;Eastern Eur...\n",
       "1  Country;;Asia Pacific;;Australasia;;Eastern Eu..."
      ]
     },
     "execution_count": 11,
     "metadata": {},
     "output_type": "execute_result"
    }
   ],
   "source": [
    "df = pd.read_csv(\"data_old/Locations.csv\")\n",
    "df"
   ]
  }
 ],
 "metadata": {
  "kernelspec": {
   "display_name": ".venv",
   "language": "python",
   "name": "python3"
  },
  "language_info": {
   "codemirror_mode": {
    "name": "ipython",
    "version": 3
   },
   "file_extension": ".py",
   "mimetype": "text/x-python",
   "name": "python",
   "nbconvert_exporter": "python",
   "pygments_lexer": "ipython3",
   "version": "3.11.4"
  },
  "orig_nbformat": 4
 },
 "nbformat": 4,
 "nbformat_minor": 2
}
